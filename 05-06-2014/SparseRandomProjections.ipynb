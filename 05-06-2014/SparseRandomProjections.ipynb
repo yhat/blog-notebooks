{
 "metadata": {
  "name": "",
  "signature": "sha256:23cdc5c1ca05da6234c3b2584495e2103ebcb7fb348151f2452169da82766ff3"
 },
 "nbformat": 3,
 "nbformat_minor": 0,
 "worksheets": [
  {
   "cells": [
    {
     "cell_type": "markdown",
     "metadata": {},
     "source": [
      "<h1>Sparse Random Projections, Python, and scikit-learn to classify handwritten digits</h1>\n",
      "<h2>by Adrian Rosebrock</h2>"
     ]
    },
    {
     "cell_type": "markdown",
     "metadata": {},
     "source": [
      "This guest post is brought to you by Adrian Rosebrock, PhD, a computer vision expert and creator of <a href=\"http://www.pyimagesearch.com/?utm_source=yhathq&utm_medium=blog&utm_content=textlink&utm_campaign=SparseRandomProjections\" title=\"PyImageSearch.com - computer vision and image search block by Adrian Rosebrock\" target=\"_blank\">pyimagesearch.com</a>, a blog about computer vision and image search. Adrian is an entrepreneur and creator of <a href=\"http://www.idmypill.com/?utm_source=yhathq&utm_medium=blog&utm_content=textlink&utm_campaign=SparseRandomProjections\" title=\"ID My Pill - Snap a pic of any prescription drug to identify it\" target=\"_blank\">ID My Pill</a>, an app for identifying prescription pills using your smartphone\u2019s camera, as well as <a href=\"http://www.chicengine.com/?utm_source=yhathq&utm_medium=blog&utm_content=textlink&utm_campaign=SparseRandomProjections\" title=\"Chic Engine - fast and easy-to-use image search engine for fashion\" target=\"_blank\">Chic Engine</a>, a fashion search engine that lets you search clothes with pics.\n",
      "\n",
      "You can find Adrian on <a href=\"http://www.linkedin.com/pub/adrian-rosebrock/2a/873/59b?utm_source=yhathq&utm_medium=blog&utm_content=textlink&utm_campaign=SparseRandomProjections\" title=\"Adrian Rosebrock on LinkedIn\" target=\"_blank\">LinkedIn</a>, <a href=\"https://twitter.com/PyImageSearch?utm_source=yhathq&utm_medium=blog&utm_content=textlink&utm_campaign=SparseRandomProjections\" title=\"Adrian Rosebrock on Twitter\" target=\"_blank\">Twitter</a>, and <a href=\"https://github.com/jrosebr1?utm_source=yhathq&utm_medium=blog&utm_content=textlink&utm_campaign=SparseRandomProjections\" title=\"Adrian Rosebrock on GitHub\" target=\"_blank\">GitHub</a>."
     ]
    },
    {
     "cell_type": "markdown",
     "metadata": {},
     "source": [
      "<h1>Intro</h1>\n",
      "There are many data related tasks in which it's desirable or necessary to perform some form of <a href=\"http://en.wikipedia.org/wiki/Dimensionality_reduction\" title=\"Dimensionality reduction on Wikipedia\" target=\"_blank\">dimensionality reduction</a>. \n",
      "\n",
      "Reducing the number of dimensions in your data, at a high level, is all about stripping out unimportant parts of your data to expose and amplify the important ones. Ultimately, the goal is to \"enhance\" a data set to make it easier to process and to improve the quality of insights you produce downstream."
     ]
    },
    {
     "cell_type": "markdown",
     "metadata": {},
     "source": [
      "So what techniques should you be using for dimensionality reduction? PCA? Approximate PCA? Kernel PCA? \n",
      "\n",
      "<h5>Well, that depends.</h5>\n",
      "<br>\n",
      "<div>\n",
      "    <img src=\"trailer_park_boys_11.jpg\" width=\"40%;\" height=\"auto;\">\n",
      "    <sub style=\"padding-left:30%;\">\n",
      "        <a href=\"https://www.youtube.com/watch?v=bmmtiLeDcNs\" title=\"Well, that depends. Bubbles from Trailer Park Boys. Season 2, Episode 5.\" target=\"_blank\">See Bubbles' quote on YouTube</a> (Trailer Park Boys, Season 2 Episode 5. <b>NSFW</b>)\n",
      "    </sub>\n",
      "</div>"
     ]
    },
    {
     "cell_type": "markdown",
     "metadata": {},
     "source": [
      "if you\u2019re working with text documents, maybe you\u2019ve used <a href=\"http://scikit-learn.org/stable/modules/generated/sklearn.decomposition.TruncatedSVD.html\" title=\"truncated singular value decomposition (SVD) in the scikit-learn docs\" target=\"_blank\">SVD</a> and <a href=\"http://scikit-learn.org/stable/modules/decomposition.html#truncated-singular-value-decomposition-and-latent-semantic-analysis\" title=\"Truncated singular value decomposition and latent semantic analysis in the scikit-learn docs\" target=\"_blank\">latent semantic analysis</a>. Or, if you\u2019re studying computer vision, classification, or content-based image retrieval, you might have tried sparse dictionary learning.\n",
      "\n",
      "In one way or another, all these techniques aim to solve for dimensionality reduction; however, most of the time these ones can't cut it for tasks where performance is critical. They aren\u2019t the fastest algorithms, and you\u2019ll likely have to cross-validate some of their parameters.\n",
      "\n",
      "The good news is that there's another way to perform dimensionality reduction that answers for performance quite well.\n",
      "\n",
      "...it\u2019s fast\n",
      "\n",
      "...it's easy to implement (and is likely already implemented in your favorite ML package)\n",
      "\n",
      "...and it\u2019s dead simple to understand!"
     ]
    },
    {
     "cell_type": "markdown",
     "metadata": {},
     "source": [
      "<h1>Sparse Random Projections</h1>\n",
      "\n",
      "This post will clue you in on one of my favorite dimensionality reduction techniques:\u00a0**sparse random\u00a0projections**.\n",
      "\n",
      "While this method can\u2019t be applied in\u00a0**_all_**\u00a0cases when you are trying to perform dimensionality reduction, this is normally the first algorithm I try because it's super useful in obtaining a baseline reading on accuracy.\n",
      "\n",
      "In some instances, it turns out that this \"baseline\" is actually the quickest and easiest without sacrificing the accuracy of my downstream models."
     ]
    },
    {
     "cell_type": "markdown",
     "metadata": {},
     "source": [
      "## The Goal:\n",
      "\n",
      "The goal of this post is to provide you with an example of how to use sparse random projections in Python's\u00a0<a href=\"http://scikit-learn.org/\" title=\"scikit-learn machine learning in python\" target=\"_blank\">scikit-learn</a> package. I'm not going to dive deep into the theoretical aspects of random projections. Instead, I want to provide you with actionable advice and code that you can take and apply to your own datasets.\n",
      "\n",
      "I\u2019m also going to focus strictly on\u00a0**_sparse_**\u00a0random projections rather than\u00a0**_dense_**\u00a0random projections. While both are useful, I find the benefits of sparse dataset representations to be much more interesting and practical.\n",
      "\n",
      "If you want to read more about the theoretical foundations of random projections, I've included some resources at the end of the post.\n",
      "\n",
      "\n",
      "<h2>Overview of what we\u2019re going to do</h2>\n",
      "\n",
      "- Apply sparse random projections to classify handwritten digits using Python and scikit-learn.\n",
      "- **What you\u2019ll learn:**\u00a0How to use Python and scikit-learn to apply sparse random projections to a dataset, train a model on the projected data, and evaluate it.\n",
      "- **What you\u2019ll need:**\u00a0Python, NumPy, Matplotlib, and scikit-learn."
     ]
    },
    {
     "cell_type": "markdown",
     "metadata": {},
     "source": [
      "## Let's get started!\n",
      "\n",
      "Random projections are made possible by the\u00a0[Johnson-Lindenstrauss lemma](http://en.wikipedia.org/wiki/Johnson%E2%80%93Lindenstrauss_lemma)\u00a0which states that there exists a mapping from a high-dimensional to a low-dimensional Euclidean space, such that the distance between the points is preserved, within some epsilon variance. Or, simply, the goal is to preserve the pairwise distances between any 2 points in your data.\n",
      "\n",
      "Furthermore, you can actually\u00a0_calculate_\u00a0the resulting dimensionality of your reduction to preserve these pairwise distances. This is totally unlike methods such as PCA where you typically cross-validate the number of components in conjunction with your classifier.\n",
      "\n",
      "This minimum number of dimensions is important to keep in mind, but as you\u2019ll see, when we apply sparse random projections to our digits dataset, we\u2019ll violate this minimum number of dimensions and still obtain higher accuracy than using the raw data alone.\n",
      "\n",
      "Remember, the Johnson-Lindenstrauss lemma\u00a0_**makes no assumptions**_\u00a0regarding the data itself, it only states that exists a mapping from a high-dimensional to low-dimensional space while preserving the pairwise Euclidean distances within some epsilon value.\n",
      "\n",
      "Depending your application, there\u00a0_are_\u00a0cases when you easily violate this minimum number of dimensions\u00a0and still obtain an adequately performing classifier. And there are also cases when you\u2019ll need to increase your minimum number of dimensions.\n",
      "\n",
      "Again, random projections are not suitable for all datasets.\u00a0_There is no \u201csilver bullet\u201d approach to dimensionality reduction._\n",
      "\n",
      "However, with that said, random projections\u00a0are (normally) a great starting point to obtain a baseline accuracy.\n",
      "\n",
      "## Digit Classifcation using Sparse Random Projections\n",
      "<img src=\"digits_sample.jpg\">\n",
      "\n",
      "## An example\n",
      "\n",
      "We'll be using the\u00a0[scikit-learn digits dataset](http://scikit-learn.org/stable/auto_examples/datasets/plot_digits_last_image.html), which consists of 1,797 samples of handwritten digit images of the numbers 0-9. Each image is 8x8 pixels. Our goal is to predict which digit\u00a0each image contains.\n",
      "\n",
      "We'll be treating each 8x8 image as a flattened feature vector of length 64. All random projections will be fitted on this raw pixel feature vector and a model trained on the resulting random projection.\n",
      "\n",
      "As I mentioned above, we can easily calculate the minimum number of required dimensions to preserve the pairwise distances:"
     ]
    },
    {
     "cell_type": "code",
     "collapsed": false,
     "input": [
      "from sklearn.random_projection import johnson_lindenstrauss_min_dim"
     ],
     "language": "python",
     "metadata": {},
     "outputs": [],
     "prompt_number": 1
    },
    {
     "cell_type": "code",
     "collapsed": false,
     "input": [
      "johnson_lindenstrauss_min_dim(1797,eps=0.1)"
     ],
     "language": "python",
     "metadata": {},
     "outputs": [
      {
       "metadata": {},
       "output_type": "pyout",
       "prompt_number": 2,
       "text": [
        "6423"
       ]
      }
     ],
     "prompt_number": 2
    },
    {
     "cell_type": "markdown",
     "metadata": {},
     "source": [
      "## \n",
      "\n",
      "Given that we have 1,797 data points, in order to preserve their pairwise Euclidean distances within a tolerance of 0.1 epsilon, our random projection matrix should have 6,423 components.\n",
      "\n",
      "But we only have 64 features, and we can't \"reduce\" 64 features to 6,423! Does this mean we can\u2019t apply sparse random projections?\n",
      "\n",
      "Of course not! It simply means that we can\u2019t make any assumptions regarding the preservation of pairwise distances between data points.\n",
      "\n",
      "As I\u2019ve mentioned earlier in this post, if accuracy of your downstream classifier is all you\u2019re looking for, don\u2019t be afraid to break the theoretical guarantees!\n",
      "\n",
      "Let\u2019s jump into some code:"
     ]
    },
    {
     "cell_type": "code",
     "collapsed": false,
     "input": [
      "from sklearn.random_projection import SparseRandomProjection\n",
      "from sklearn.svm import LinearSVC\n",
      "from sklearn.cross_validation import train_test_split\n",
      "from sklearn import metrics\n",
      "from sklearn import datasets\n",
      "%matplotlib inline\n",
      "import matplotlib.pyplot as plt\n",
      "import numpy as np"
     ],
     "language": "python",
     "metadata": {},
     "outputs": [],
     "prompt_number": 3
    },
    {
     "cell_type": "code",
     "collapsed": false,
     "input": [
      "accuracies = []\n",
      "components = np.int32(np.linspace(2, 64, 20))"
     ],
     "language": "python",
     "metadata": {},
     "outputs": [],
     "prompt_number": 4
    },
    {
     "cell_type": "markdown",
     "metadata": {},
     "source": [
      "## \n",
      "\n",
      "Box 2\u00a0imports the packages that we\u2019ll be using. This is pretty self-explanatory. scikit-learn will perform the sparse random projection, train a classifier, and perform training/testing splits, along with reporting accuracies. matplotlib will visualize the results.\n",
      "\n",
      "From there,\u00a0Box 3 initializes our lists of accuracies. We\u2019ll be evaluating 20 different component sizes, equally spaced from 2 to 64.\n",
      "\n",
      "Next we load the digits data set, perform a training and testing split, train a Linear SVM, and obtain a baseline accuracy:"
     ]
    },
    {
     "cell_type": "code",
     "collapsed": false,
     "input": [
      "digits = datasets.load_digits()\n",
      "split = train_test_split(digits.data, digits.target, test_size = 0.3,\n",
      "    random_state = 42)\n",
      "(trainData, testData, trainTarget, testTarget) = split"
     ],
     "language": "python",
     "metadata": {},
     "outputs": [],
     "prompt_number": 5
    },
    {
     "cell_type": "code",
     "collapsed": false,
     "input": [
      "model = LinearSVC()\n",
      "model.fit(trainData, trainTarget)\n",
      "baseline = metrics.accuracy_score(model.predict(testData), testTarget)"
     ],
     "language": "python",
     "metadata": {},
     "outputs": [],
     "prompt_number": 6
    },
    {
     "cell_type": "markdown",
     "metadata": {},
     "source": [
      "Again, our baseline accuracy was obtained by training a Linear SVM on the raw pixel values. We have not yet applied our sparse random projection.\n",
      "\n",
      "That comes next:\n",
      "\n"
     ]
    },
    {
     "cell_type": "code",
     "collapsed": false,
     "input": [
      "# loop over the projection sizes\n",
      "for comp in components:\n",
      "    # create the random projection\n",
      "    sp = SparseRandomProjection(n_components = comp)\n",
      "    X = sp.fit_transform(trainData)\n",
      " \n",
      "    # train a classifier on the sparse random projection\n",
      "    model = LinearSVC()\n",
      "    model.fit(X, trainTarget)\n",
      " \n",
      "    # evaluate the model and update the list of accuracies\n",
      "    test = sp.transform(testData)\n",
      "    accuracies.append(metrics.accuracy_score(model.predict(test), testTarget))"
     ],
     "language": "python",
     "metadata": {},
     "outputs": [],
     "prompt_number": 7
    },
    {
     "cell_type": "markdown",
     "metadata": {},
     "source": [
      "## \n",
      "\n",
      "Let\u2019s break down this code down to make sure we know what\u2019s going on.\n",
      "\n",
      "- **Line 27:**\u00a0We start looping over our number of components, equally spaced, in the range 2 to 64.\n",
      "- **Line 29 and 30:**\u00a0We instantiate our\u00a0\n",
      "\n",
      "SparseRandomProjection\u00a0using the current number of components, fit our random projection to the data (which essentially means generating a sparse matrix of values), and then transforming our original training data by projecting the data.\n",
      "- **Line 33 and 34:**\u00a0Now that we have obtained a sparse representation of the data, let\u2019s train a Linear SVM on it.\n",
      "- **Line 37 and 38:**\u00a0Our Linear SVM is now trained; it\u2019s time to see how it performs on the testing data and update our list of accuracies.\n",
      "\n",
      "At this point all the hard work is done.\n",
      "\n",
      "We\u2019ve evaluated a series of sparse random projections for varying numbers of components.\n",
      "\n",
      "Let\u2019s plot our results and see what we have:"
     ]
    },
    {
     "cell_type": "code",
     "collapsed": false,
     "input": [
      "# create the figure\n",
      "plt.figure()\n",
      "plt.suptitle(\"Accuracy of Sparse Projection on Digits\")\n",
      "plt.xlabel(\"# of Components\")\n",
      "plt.ylabel(\"Accuracy\")\n",
      "plt.xlim([2, 64])\n",
      "plt.ylim([0, 1.0])\n",
      " \n",
      "# plot the baseline and random projection accuracies\n",
      "plt.plot(components, [baseline] * len(accuracies), color = \"r\")\n",
      "plt.plot(components, accuracies)\n",
      "\n",
      "plt.show()"
     ],
     "language": "python",
     "metadata": {},
     "outputs": [
      {
       "metadata": {},
       "output_type": "display_data",
       "png": "[encoded data removed]",
       "text": [
        "<matplotlib.figure.Figure at 0x1072f9190>"
       ]
      }
     ],
     "prompt_number": 8
    },
    {
     "cell_type": "markdown",
     "metadata": {},
     "source": [
      "Our baseline accuracy is plotted in red while our sparse random projection + Linear SVM is plotted in blue. The baseline Linear SVM (trained on the raw pixel values of each 8\u00d78 image) obtains roughly 94% accuracy.\n",
      "\n",
      "We then see that as the size of our sparse random projection increases, we are able to eventually outperform the original Linear SVM when roughly 30 components are used, which is less than half the number of predictors in the original feature space.\n",
      "\n",
      "Furthermore, these 30 components are also\u00a0_sparse_, thus leading to a much more efficient memory representation (and with higher accuracy).\n",
      "\n",
      "## Summary\n",
      "\n",
      "In this post, I showed how to utilize sparse random projections for dimensionality reduction.\n",
      "\n",
      "While we can calculate the minimum number of dimensions required to preserve the pairwise distances between data points within some epsilon, don\u2019t become overly obsessed with this value. The Johnson-Lindenstrauss lemma makes\u00a0**_no assumptions_**\u00a0regarding the data itself. It simply states that there is a projection from a high-dimensional to low-dimensional space where the pairwise distances can be preserved.\n",
      "\n",
      "In practice, you should play around with the number of components. As our digit classification example showed, we were able to able to outperform our original dense feature vectors using half the number of sparse predictors. And with the scikit-learn implementation, it only takes <em>two</em> lines of code to perform!\n",
      "\n",
      "Definitely consider giving sparse random projections a try with your next project. They're seriously fast, memory efficient, and dead simple to use, and the absolute worst case scenario is that you can use them as a baseline accuracy from which to build further experiments.\n",
      "\n",
      "## Downloads:\n",
      "\n",
      "Looking for the source code to this post?\u00a0[Just click here to download it.](http://www.pyimagesearch.com/wp-content/uploads/2014/05/sparse_random_projections_code.zip)\n",
      "\n",
      "## Interested in Computer Vision?\n",
      "\n",
      "Hey, my name is Adrian Rosebrock. I blog about computer vision, image processing, and image search engines over at\u00a0[PyImageSearch](http://www.pyimagesearch.com/). If you\u2019re interested in computer vision and how machines can \"see\" and \"interpret\" pictures, head on over to my\u00a0[blog](http://www.pyimagesearch.com/), browse around,\u00a0and\u00a0send me a message. \n",
      "\n",
      "If you\u2019re interested in learning the basics of computer vision, I have a new book,\u00a0[_Practical Python and OpenCV_](http://www.pyimagesearch.com/practical-python-opencv/)\u00a0that can teach you the basics in a single weekend, guaranteed! "
     ]
    },
    {
     "cell_type": "markdown",
     "metadata": {},
     "source": [
      "<h1>Other Resources</h1>\n",
      "\n",
      "<ul>\n",
      "<li><a href=\"http://en.wikipedia.org/wiki/Johnson%E2%80%93Lindenstrauss_lemma\" target=\"_blank\">Johnson\u2013Lindenstrauss lemma</a> on Wikipedia</li>\n",
      "<li><a href=\"http://users.soe.ucsc.edu/~optas/papers/jl.pdf\" target=\"_blank\">Database-friendly random projections: Johnson-Lindenstrauss with binary coins</a> Achlioptas' 2003 paper</li>\n",
      "<li><a href=\"http://citeseerx.ist.psu.edu/viewdoc/download?doi=10.1.1.62.585&rep=rep1&type=pdf\" target=\"_blank\">Very Sparse Random Projections</a> (Li et al)</li>\n",
      "</ul>"
     ]
    }
   ],
   "metadata": {}
  }
 ]
}